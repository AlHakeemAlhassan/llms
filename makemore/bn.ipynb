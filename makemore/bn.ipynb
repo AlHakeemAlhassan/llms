{
 "cells": [
  {
   "cell_type": "code",
   "execution_count": 5,
   "id": "a188f10e-7532-4b1e-a501-6f77aa31e31b",
   "metadata": {},
   "outputs": [
    {
     "data": {
      "text/plain": [
       "'\\n - [ ] Batch Normalization. \\n - [ ] Residual connections \\n - [ ] the Adam optimizer\\n'"
      ]
     },
     "execution_count": 5,
     "metadata": {},
     "output_type": "execute_result"
    }
   ],
   "source": [
    "\"\"\"\n",
    " - [ ] Activation functions\n",
    " - [ ] Batch Normalization. \n",
    " - [ ] Residual connections \n",
    " - [ ] the Adam optimizer\n",
    " - [ ] Backpropagation\n",
    "\"\"\"\n",
    "# [Paper]()"
   ]
  }
 ],
 "metadata": {
  "kernelspec": {
   "display_name": "Python 3 (ipykernel)",
   "language": "python",
   "name": "python3"
  },
  "language_info": {
   "codemirror_mode": {
    "name": "ipython",
    "version": 3
   },
   "file_extension": ".py",
   "mimetype": "text/x-python",
   "name": "python",
   "nbconvert_exporter": "python",
   "pygments_lexer": "ipython3",
   "version": "3.10.12"
  },
  "widgets": {
   "application/vnd.jupyter.widget-state+json": {
    "state": {},
    "version_major": 2,
    "version_minor": 0
   }
  }
 },
 "nbformat": 4,
 "nbformat_minor": 5
}
