{
 "cells": [
  {
   "cell_type": "code",
   "execution_count": 1,
   "id": "bb6151f8-7b27-47bd-81df-056c78d5ea46",
   "metadata": {},
   "outputs": [
    {
     "data": {
      "text/plain": [
       "'2.1.1+cu121'"
      ]
     },
     "execution_count": 1,
     "metadata": {},
     "output_type": "execute_result"
    }
   ],
   "source": [
    "import torch\n",
    "import torch.nn.functional as F\n",
    "import matplotlib.pyplot as plt\n",
    "\n",
    "%matplotlib inline\n",
    "\n",
    "torch.__version__"
   ]
  },
  {
   "cell_type": "code",
   "execution_count": 2,
   "id": "86c5ded7-d1bb-4d76-9f3f-050f4676b2c5",
   "metadata": {},
   "outputs": [
    {
     "name": "stdout",
     "output_type": "stream",
     "text": [
      "names:  ['braylinn', 'harlei', 'viana', 'greylin', 'teniola']\n",
      "number of names:  32033\n",
      "(list of chars, count):  ('.abcdefghijklmnopqrstuvwxyz', 27)\n",
      "(max word length, min word length):  (15, 1)\n"
     ]
    }
   ],
   "source": [
    "import random\n",
    "with open(\"names.txt\", \"r+\") as f:\n",
    "\twords = f.read().splitlines()\n",
    "\twords = [word.strip() for word in words] # get rid of any trailing spaces\n",
    "\twords = [w for w in words if w] # get rid of any empty strings\n",
    "\tnames = sorted(words, key=lambda x: random.random())\n",
    "\t\n",
    "with open(\"names.txt\", \"w\") as f: \n",
    "\tjoined = \"\\n\".join(names)\n",
    "\tf.write(joined)\n",
    "min_chars = 1\n",
    "max_chars = max(len(v) for v in names)\n",
    "chars = sorted(list(set(\"\".join(names))))\n",
    "\n",
    "# in replacement of the start and end token. Every name should end with a period. and there should be no start token to begin a sequence\n",
    "chars = ['.'] + chars\n",
    "chars_count = len(chars)\n",
    "print(\"names: \", names[:5])\n",
    "print(\"number of names: \", len(names))\n",
    "print(\"(list of chars, count): \", (\"\".join(chars), chars_count))\n",
    "print(\"(max word length, min word length): \", (max_chars, min_chars))\n",
    "\n",
    "atoi = {ch:i for i,ch in enumerate(chars)}\n",
    "itoa = {i:ch for i,ch in enumerate(chars)}\n",
    "\n",
    "# adding end token to each name\n",
    "names = [list(name) + ['.'] for name in names]"
   ]
  },
  {
   "cell_type": "code",
   "execution_count": 3,
   "id": "ece9b2e4-7d31-4397-b570-f01f02c3e367",
   "metadata": {},
   "outputs": [
    {
     "data": {
      "text/plain": [
       "(torch.Size([228146, 3]), torch.Size([228146]), torch.int64, torch.int64)"
      ]
     },
     "execution_count": 3,
     "metadata": {},
     "output_type": "execute_result"
    }
   ],
   "source": [
    "block_size = 3 # context length: how many characters do we take to predict the next one?\n",
    "X, Y = [], []\n",
    "\n",
    "for name in names:\n",
    "    context  = [0] * block_size\n",
    "    for ch in name:\n",
    "        ix = atoi[ch]\n",
    "        X.append(context)\n",
    "        Y.append(ix)\n",
    "        # print(''.join(itoa[i] for i in context), '--->', itoa[ix])\n",
    "        context = context[1:] + [ix] # crop and append\n",
    "        \n",
    "X, Y = torch.tensor(X), torch.tensor(Y)\n",
    "X.shape, Y.shape, X.dtype, Y.dtype"
   ]
  },
  {
   "cell_type": "code",
   "execution_count": 4,
   "id": "40df7547-351a-400c-81a8-7b5d5da68526",
   "metadata": {},
   "outputs": [
    {
     "name": "stdout",
     "output_type": "stream",
     "text": [
      "...\n",
      "..h\n",
      ".hi\n",
      "hir\n",
      "iro\n"
     ]
    }
   ],
   "source": [
    "def build_dset(dset):\n",
    "    X, Y = [], []\n",
    "    for name in dset:\n",
    "        context  = [0] * block_size\n",
    "        for ch in name:\n",
    "            ix = atoi[ch]\n",
    "            X.append(context)\n",
    "            Y.append(ix)\n",
    "            # print(''.join(itoa[i] for i in context), '--->', itoa[ix])\n",
    "            context = context[1:] + [ix] # crop and append\n",
    "    \n",
    "    X = torch.tensor(X)\n",
    "    Y = torch.tensor(Y)\n",
    "    return X, Y\n",
    "n1 = int(0.8*len(words))\n",
    "n2 = int(0.9*len(words))\n",
    "\n",
    "# why divide into 3\n",
    "X_train, Y_train = build_dset(names[:n1])\n",
    "X_val, Y_val = build_dset(names[n1:n2])\n",
    "X_test, Y_test = build_dset(names[n2:])\n",
    "\n",
    "for c in X_test[:5]:\n",
    "    print(''.join(itoa[i.item()] for i in c))"
   ]
  },
  {
   "cell_type": "code",
   "execution_count": 5,
   "id": "36a4d92f-067a-4a56-a452-63c8171c6df8",
   "metadata": {},
   "outputs": [
    {
     "data": {
      "text/plain": [
       "(tensor([[-0.8215, -1.1966],\n",
       "         [-1.5505,  0.4482],\n",
       "         [ 0.9973, -0.1245],\n",
       "         [ 0.9018, -1.4886],\n",
       "         [-0.4428, -1.3698],\n",
       "         [-0.7693, -0.8891],\n",
       "         [-0.2978, -1.6962],\n",
       "         [ 0.5888,  0.3978],\n",
       "         [-0.2772, -0.3017],\n",
       "         [-0.5132, -1.1129],\n",
       "         [-0.2736, -0.6277],\n",
       "         [-1.0195,  1.0809],\n",
       "         [ 0.5346, -0.8812],\n",
       "         [-1.8841,  0.6568],\n",
       "         [-0.7425,  0.3652],\n",
       "         [ 0.2991,  1.4693],\n",
       "         [ 1.2173, -1.0886],\n",
       "         [ 0.0550, -0.8916],\n",
       "         [-1.5732,  0.7924],\n",
       "         [-0.8945,  0.3442],\n",
       "         [ 0.2235,  1.6182],\n",
       "         [-1.7671,  0.2599],\n",
       "         [ 1.3681,  0.0323],\n",
       "         [-1.0477,  1.4662],\n",
       "         [ 0.6799, -0.7930],\n",
       "         [-1.3376, -0.8441],\n",
       "         [-0.5871, -0.3898]]),\n",
       " tensor([[-0.8215, -1.1966],\n",
       "         [-0.8215, -1.1966],\n",
       "         [-0.8215, -1.1966]]))"
      ]
     },
     "execution_count": 5,
     "metadata": {},
     "output_type": "execute_result"
    }
   ],
   "source": [
    "C = torch.randn((27, 2))\n",
    "emb = C[X_train[0]]\n",
    "C, emb"
   ]
  }
 ],
 "metadata": {
  "kernelspec": {
   "display_name": "Python 3 (ipykernel)",
   "language": "python",
   "name": "python3"
  }
 },
 "nbformat": 4,
 "nbformat_minor": 5
}
