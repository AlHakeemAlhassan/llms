{
 "cells": [
  {
   "cell_type": "markdown",
   "metadata": {},
   "source": [
    "### [Paper](./assets/bengio03.pdf)\n",
    "\n",
    "Multi-layer perceptrion (MLP) is a feedforward neural network with one or more hidden layers between input and output layers. It is a generalization of the standard linear perceptron. MLPs are widely used for supervised learning. They are especially useful for classification problems that are not linearly separable."
   ]
  },
  {
   "cell_type": "code",
   "execution_count": 5,
   "id": "bb6151f8-7b27-47bd-81df-056c78d5ea46",
   "metadata": {},
   "outputs": [
    {
     "data": {
      "text/plain": [
       "'2.1.1+cu121'"
      ]
     },
     "execution_count": 5,
     "metadata": {},
     "output_type": "execute_result"
    }
   ],
   "source": [
    "import torch\n",
    "import torch.nn.functional as F\n",
    "import matplotlib.pyplot as plt\n",
    "\n",
    "%matplotlib inline\n",
    "g = torch.Generator().manual_seed(2147483647) # for reproducibility\n",
    "\n",
    "torch.__version__"
   ]
  },
  {
   "cell_type": "code",
   "execution_count": 6,
   "id": "86c5ded7-d1bb-4d76-9f3f-050f4676b2c5",
   "metadata": {},
   "outputs": [
    {
     "name": "stdout",
     "output_type": "stream",
     "text": [
      "names:  ['daytona', 'yovanny', 'bryli', 'arkan', 'jaylannie']\n",
      "number of names:  32033\n",
      "(list of chars, count):  ('.abcdefghijklmnopqrstuvwxyz', 27)\n",
      "(max word length, min word length):  (15, 1)\n"
     ]
    }
   ],
   "source": [
    "import random\n",
    "with open(\"names.txt\", \"r+\") as f:\n",
    "\twords = f.read().splitlines()\n",
    "\twords = [word.strip() for word in words] # get rid of any trailing spaces\n",
    "\twords = [w for w in words if w] # get rid of any empty strings\n",
    "\tnames = sorted(words, key=lambda x: random.random())\n",
    "\t\n",
    "with open(\"names.txt\", \"w\") as f: \n",
    "\tjoined = \"\\n\".join(names)\n",
    "\tf.write(joined)\n",
    "min_chars = 1\n",
    "max_chars = max(len(v) for v in names)\n",
    "chars = sorted(list(set(\"\".join(names))))\n",
    "\n",
    "# in replacement of the start and end token. Every name should end with a period. and there should be no start token to begin a sequence\n",
    "chars = ['.'] + chars\n",
    "chars_count = len(chars)\n",
    "print(\"names: \", names[:5])\n",
    "print(\"number of names: \", len(names))\n",
    "print(\"(list of chars, count): \", (\"\".join(chars), chars_count))\n",
    "print(\"(max word length, min word length): \", (max_chars, min_chars))\n",
    "\n",
    "atoi = {ch:i for i,ch in enumerate(chars)}\n",
    "itoa = {i:ch for i,ch in enumerate(chars)}\n",
    "\n",
    "# adding end token to each name\n",
    "names = [list(name) + ['.'] for name in names]"
   ]
  },
  {
   "cell_type": "code",
   "execution_count": 7,
   "id": "ece9b2e4-7d31-4397-b570-f01f02c3e367",
   "metadata": {},
   "outputs": [
    {
     "data": {
      "text/plain": [
       "(torch.Size([228146, 3]), torch.Size([228146]), torch.int64, torch.int64)"
      ]
     },
     "execution_count": 7,
     "metadata": {},
     "output_type": "execute_result"
    }
   ],
   "source": [
    "block_size = 3 # context length: how many characters do we take to predict the next one?\n",
    "X, Y = [], []\n",
    "\n",
    "for name in names:\n",
    "    context  = [0] * block_size\n",
    "    for ch in name:\n",
    "        ix = atoi[ch]\n",
    "        X.append(context)\n",
    "        Y.append(ix)\n",
    "        # print(''.join(itoa[i] for i in context), '--->', itoa[ix])\n",
    "        context = context[1:] + [ix] # crop and append\n",
    "        \n",
    "X, Y = torch.tensor(X), torch.tensor(Y)\n",
    "X.shape, Y.shape, X.dtype, Y.dtype"
   ]
  },
  {
   "cell_type": "code",
   "execution_count": 8,
   "id": "40df7547-351a-400c-81a8-7b5d5da68526",
   "metadata": {},
   "outputs": [
    {
     "name": "stdout",
     "output_type": "stream",
     "text": [
      "... => d\n",
      "..d => a\n",
      ".da => y\n",
      "day => t\n",
      "ayt => o\n"
     ]
    },
    {
     "data": {
      "text/plain": [
       "((torch.Size([22653, 3]), torch.Size([22653])),\n",
       " (torch.Size([182554, 3]), torch.Size([182554])),\n",
       " (torch.Size([22939, 3]), torch.Size([22939])))"
      ]
     },
     "execution_count": 8,
     "metadata": {},
     "output_type": "execute_result"
    }
   ],
   "source": [
    "# build_dset basically builds a rolling window on the dataset based on the context length.\n",
    "def build_dset(dset, ctxt_len):\n",
    "    X, Y = [], []\n",
    "    for name in dset:\n",
    "        context  = [0] * ctxt_len\n",
    "        for ch in name:\n",
    "            ix = atoi[ch]\n",
    "            X.append(context)\n",
    "            Y.append(ix)\n",
    "            # print(''.join(itoa[i] for i in context), '--->', itoa[ix])\n",
    "            context = context[1:] + [ix] # crop and append\n",
    "    \n",
    "    X = torch.tensor(X)\n",
    "    Y = torch.tensor(Y)\n",
    "    return X, Y\n",
    "n1 = int(0.1*len(words))\n",
    "n2 = int(0.9*len(words))\n",
    "\n",
    "X_train, Y_train = build_dset(names[:n1], block_size)\n",
    "X_val, Y_val = build_dset(names[n1:n2], block_size)\n",
    "X_test, Y_test = build_dset(names[n2:], block_size)\n",
    "\n",
    "for c, d in zip(X_train[:5], Y_train[:5]):\n",
    "    print(''.join(itoa[i.item()] for i in c), \"=>\", itoa[d.item()])\n",
    "\n",
    "(X_train.shape, Y_train.shape), (X_val.shape, Y_val.shape), (X_test.shape, Y_test.shape)"
   ]
  },
  {
   "cell_type": "code",
   "execution_count": 9,
   "id": "36a4d92f-067a-4a56-a452-63c8171c6df8",
   "metadata": {},
   "outputs": [
    {
     "name": "stdout",
     "output_type": "stream",
     "text": [
      "The shape of Z(emb):  torch.Size([22653, 3, 2])\n"
     ]
    }
   ],
   "source": [
    "# squeezing it into a 2 dimensional space \n",
    "# since in the paper, a relatively smaller tensor(30 and 60) (to the dataset[17_000]) is used. \n",
    "C = torch.randn((27, 2), generator=g)\n",
    "\n",
    "x_enc = F.one_hot(X_train, num_classes=27).float()\n",
    "Z = x_enc @ C\n",
    "\n",
    "# this is another way of doing x \\times W \n",
    "emb = C[X_train]\n",
    "\n",
    "assert torch.equal(Z, emb)\n",
    "print(\"The shape of Z(emb): \", Z.shape)"
   ]
  },
  {
   "cell_type": "code",
   "execution_count": 10,
   "id": "72b8b03a-4fac-4fe3-914c-91efd25d8eae",
   "metadata": {},
   "outputs": [
    {
     "name": "stdout",
     "output_type": "stream",
     "text": [
      "Shape of hidden layer:  torch.Size([22653, 100])\n",
      "Shape of logits:  torch.Size([22653, 27])\n",
      "Shape of probability space:  torch.Size([22653, 27])\n",
      "Total number of parameters:  3481\n"
     ]
    }
   ],
   "source": [
    "# changing shape of Z(emb) so as to cross weight \n",
    "A = torch.cat(torch.unbind(Z, 1), dim=1)\n",
    "A.shape\n",
    "\n",
    "# This is a more efficient implementation of the above\n",
    "Z_shaped = Z.view(-1, 6)\n",
    "\n",
    "assert torch.equal(A, Z_shaped)\n",
    "\n",
    "# here let's use a 100 dimensional space\n",
    "W1 = torch.randn((6, 100), generator=g)\n",
    "b1 = torch.randn(100, generator=g)\n",
    " \n",
    "h = torch.tanh(Z_shaped @ W1 + b1) #hidden layer\n",
    "\n",
    "print(\"Shape of hidden layer: \", h.shape)\n",
    "\n",
    "W2 = torch.randn((100, 27), generator=g)\n",
    "b2 = torch.randn(27, generator=g)\n",
    "\n",
    "logits = h @ W2 + b2 # log-counts\n",
    "print(\"Shape of logits: \", logits.shape)\n",
    "\n",
    "# normalization\n",
    "counts = logits.exp()\n",
    "probs = counts / counts.sum(1, keepdims=True)\n",
    "\n",
    "print(\"Shape of probability space: \", probs.shape)\n",
    "\n",
    "params = [C, W1, b1, W2, b2]\n",
    "\n",
    "print(\"Total number of parameters: \", sum(p.nelement() for p in params))"
   ]
  },
  {
   "cell_type": "code",
   "execution_count": 11,
   "id": "4b9aef35-5913-44bf-94a4-8044d21029f1",
   "metadata": {},
   "outputs": [
    {
     "name": "stdout",
     "output_type": "stream",
     "text": [
      "loss=19.539588928222656 loss2=19.53959083557129\n"
     ]
    }
   ],
   "source": [
    "# negative mean log likelihood (cross entropy loss)\n",
    "# print(probs.shape[0], Y_train.shape[0])\n",
    "loss = -probs[torch.arange(probs.shape[0]), Y_train].log().mean()\n",
    "\n",
    "# this is a better way to implement the above\n",
    "loss2 = F.cross_entropy(logits, Y_train)\n",
    "\n",
    "print(f\"loss={loss} loss2={loss2}\")\n",
    "# assert torch.equal(loss, loss2), "
   ]
  },
  {
   "cell_type": "code",
   "execution_count": 12,
   "id": "a7c07e7e-f847-4a4e-af0f-b26e3bfd2c32",
   "metadata": {},
   "outputs": [
    {
     "name": "stdout",
     "output_type": "stream",
     "text": [
      "torch.float32\n"
     ]
    }
   ],
   "source": [
    "# REDOING IT AGAIN MORE CLEARELY\n",
    "# hyper-params\n",
    "embedding_size = 10\n",
    "block_size  = 3 # context length\n",
    "mid_w_size = 200 # intermediate weight size\n",
    "lr = 0.1 # determined based on graph\n",
    "batch_size = 50\n",
    "\n",
    "lre = torch.linspace(-3, 0, 1000)\n",
    "lrs = 10**lre # a range of learning rate\n",
    "print(lrs.dtype)"
   ]
  },
  {
   "cell_type": "code",
   "execution_count": 13,
   "id": "dfaaecda-e11f-4d00-82fe-2673964b94a1",
   "metadata": {},
   "outputs": [],
   "source": [
    "# BACKPROPAGATION\n",
    "\n",
    "\n",
    "# train-test split(80, 10, 10)\n",
    "n1 = int(0.8*len(words))\n",
    "n2 = int(0.9*len(words))\n",
    "\n",
    "X_train, Y_train = build_dset(names[:n1], block_size)\n",
    "X_val, Y_val = build_dset(names[n1:n2], block_size)\n",
    "X_test, Y_test = build_dset(names[n2:], block_size)\n",
    "\n",
    "C = torch.randn((27, embedding_size), generator=g)\n",
    "W1 = torch.randn((block_size * embedding_size, mid_w_size), generator=g)\n",
    "b1 = torch.randn(mid_w_size, generator=g)\n",
    "W2 = torch.randn((mid_w_size, 27), generator=g)\n",
    "b2 = torch.randn(27, generator=g)\n",
    "\n",
    "params = [C, W1, b1, W2, b2]\n",
    "\n",
    "for p in params:\n",
    "    p.requires_grad = True # autograd should record operations\n"
   ]
  },
  {
   "cell_type": "code",
   "execution_count": 14,
   "id": "6b4c5bfa-446d-4ada-af67-db9636a93563",
   "metadata": {},
   "outputs": [
    {
     "name": "stdout",
     "output_type": "stream",
     "text": [
      "( 0 / 1000 ) loss =  22.903615951538086\n",
      "( 100 / 1000 ) loss =  25.87350845336914\n",
      "( 200 / 1000 ) loss =  21.058979034423828\n",
      "( 300 / 1000 ) loss =  20.216575622558594\n",
      "( 400 / 1000 ) loss =  15.915148735046387\n",
      "( 500 / 1000 ) loss =  11.001262664794922\n",
      "( 600 / 1000 ) loss =  5.984532356262207\n",
      "( 700 / 1000 ) loss =  7.360552787780762\n",
      "( 800 / 1000 ) loss =  7.316829681396484\n",
      "( 900 / 1000 ) loss =  5.88932991027832\n"
     ]
    }
   ],
   "source": [
    "# BACKPROPAGATION\n",
    "\n",
    "# print(emb.shape, C[X_train].shape)  \n",
    "count = 1000\n",
    "step_i = []\n",
    "lr_i = []\n",
    "loss_i = []\n",
    "\n",
    "for i in range(count):\n",
    "    # minibatch construct - for efficiency\n",
    "    ix = torch.randint(0, X_train.shape[0], (batch_size,))\n",
    "\n",
    "    # forward pass\n",
    "    emb = C[X_train[ix]].view(-1, 30)\n",
    "    h = torch.tanh(emb @ W1 + b1) # intermediate layer\n",
    "    logits = h @ W2 + b2\n",
    "        \n",
    "    loss = F.cross_entropy(logits, Y_train[ix])\n",
    "    if i % 100 == 0:\n",
    "        print(\"(\", i ,\"/\", count, \") loss = \", loss.item())\n",
    "    \n",
    "    # backward pass\n",
    "    for p in params:\n",
    "        p.grad = None\n",
    "    loss.backward()\n",
    "\n",
    "    # update\n",
    "    for p in params:\n",
    "        p.data += - lrs[i] * p.grad \n",
    "\n",
    "    # track stats\n",
    "    lr_i.append(lrs[i])\n",
    "    step_i.append(i)\n",
    "    loss_i.append(loss)"
   ]
  },
  {
   "cell_type": "code",
   "execution_count": 15,
   "id": "6ad1e784-b426-4518-ad31-e31536d948b7",
   "metadata": {},
   "outputs": [
    {
     "name": "stdout",
     "output_type": "stream",
     "text": [
      "The minimum learning rate is:  -0.56456458568573\n"
     ]
    },
    {
     "data": {
      "image/png": "[encoded data removed]",
      "text/plain": [
       "<Figure size 640x480 with 1 Axes>"
      ]
     },
     "metadata": {},
     "output_type": "display_data"
    }
   ],
   "source": [
    "y = torch.tensor(loss_i)\n",
    "x = torch.log10(torch.tensor(lr_i))\n",
    "\n",
    "xy_stack = torch.stack((x, y), dim=1)\n",
    "min_y_idx = torch.argmin(y)\n",
    "min_lr = xy_stack[min_y_idx]\n",
    "print(\"The minimum learning rate is: \", min_lr[0].item())\n",
    "\n",
    "# graphing\n",
    "plt.plot(x.numpy(), y.numpy()) # after determine the optimum learning rate\n",
    "plt.xlabel('Learning rate')\n",
    "plt.ylabel('Log Loss')\n",
    "plt.title('Learing rate Loss graph')\n",
    "plt.show()"
   ]
  },
  {
   "cell_type": "code",
   "execution_count": 16,
   "id": "280a5948-0274-4f2b-9d18-6837bdd5c4ea",
   "metadata": {},
   "outputs": [
    {
     "name": "stdout",
     "output_type": "stream",
     "text": [
      "( 0 / 10000 ) loss =  12.694859504699707\n",
      "( 1000 / 10000 ) loss =  3.281001329421997\n",
      "( 2000 / 10000 ) loss =  2.1393189430236816\n",
      "( 3000 / 10000 ) loss =  2.6802945137023926\n",
      "( 4000 / 10000 ) loss =  2.518371820449829\n",
      "( 5000 / 10000 ) loss =  2.3529789447784424\n",
      "( 6000 / 10000 ) loss =  1.9854583740234375\n"
     ]
    }
   ],
   "source": [
    "# BACKPROPAGATION\n",
    "count = 10000\n",
    "\n",
    "lre = torch.linspace(-3, 0, count)\n",
    "lrs = 10**lre # a range of learning rate\n",
    "\n",
    "# print(emb.shape, C[X_train].shape)  \n",
    "step_i = []\n",
    "lr_i = []\n",
    "loss_i = []\n",
    "for i in range(count):\n",
    "    # minibatch construct - for efficiency\n",
    "    ix = torch.randint(0, X_train.shape[0], (batch_size,))\n",
    "\n",
    "    # forward pass\n",
    "    emb = C[X_train[ix]].view(-1, 30)\n",
    "    h = torch.tanh(emb @ W1 + b1) # intermediate layer\n",
    "    logits = h @ W2 + b2\n",
    "        \n",
    "    loss = F.cross_entropy(logits, Y_train[ix])\n",
    "    if i % 1000 == 0:\n",
    "        print(\"(\", i ,\"/\", count, \") loss = \", loss.item())\n",
    "    \n",
    "    # backward pass\n",
    "    for p in params:\n",
    "        p.grad = None\n",
    "    loss.backward()\n",
    "\n",
    "    # update\n",
    "    lri = lr if i < count/2 else lr * 0.5\n",
    "    # lr_i = 0.01\n",
    "    for p in params:\n",
    "        p.data += - lri * p.grad \n",
    "\n",
    "    # track stats\n",
    "    lr_i.append(lrs[i])\n",
    "    step_i.append(i)\n",
    "    loss_i.append(loss)"
   ]
  },
  {
   "cell_type": "code",
   "execution_count": null,
   "metadata": {},
   "outputs": [],
   "source": [
    "plt.plot(step_i, loss_i)"
   ]
  },
  {
   "cell_type": "code",
   "execution_count": null,
   "id": "e532cff4-d792-4daf-bc54-c885d3922f04",
   "metadata": {},
   "outputs": [],
   "source": [
    "X, Y = X_val, Y_val # validation set\n",
    "emb = C[X]\n",
    "h = torch.tanh(emb.view(-1, block_size * embedding_size) @ W1 + b1) # intermediate layer\n",
    "logits = h @ W2 + b2\n",
    "loss = F.cross_entropy(logits, Y)\n",
    "loss.item()"
   ]
  },
  {
   "cell_type": "code",
   "execution_count": null,
   "id": "f983f955-31fd-4d56-803e-79c31523f92b",
   "metadata": {},
   "outputs": [],
   "source": [
    "X, Y = X_test, Y_test # test set\n",
    "emb = C[X]\n",
    "h = torch.tanh(emb.view(-1, block_size * embedding_size) @ W1 + b1) # intermediate layer\n",
    "logits = h @ W2 + b2\n",
    "loss = F.cross_entropy(logits, Y)\n",
    "loss.item()"
   ]
  },
  {
   "cell_type": "code",
   "execution_count": null,
   "id": "fb23627d-4d25-4ba3-a1a8-f882b832c729",
   "metadata": {},
   "outputs": [],
   "source": [
    "def nnl(probs, name):\n",
    "    \"to calculate the likelihood of a word\"\n",
    "    i = torch.tensor([atoi[ch] for ch in name])\n",
    "    x, y = build_dset([name], block_size)\n",
    "    emb = C[x]\n",
    "    h = torch.tanh(emb.view(-1, 30) @ W1 + b1)\n",
    "    logits = h @ W2 + b2\n",
    "    loss = F.cross_entropy(logits, y)\n",
    "    return loss.item()"
   ]
  },
  {
   "cell_type": "code",
   "execution_count": 1,
   "id": "f8c8eabe-eeeb-4ad1-b173-f14a5decaed7",
   "metadata": {},
   "outputs": [
    {
     "ename": "NameError",
     "evalue": "name 'block_size' is not defined",
     "output_type": "error",
     "traceback": [
      "\u001b[0;31m---------------------------------------------------------------------------\u001b[0m",
      "\u001b[0;31mNameError\u001b[0m                                 Traceback (most recent call last)",
      "\u001b[1;32m/home/manan/code/karparthy/makemore/mlp.ipynb Cell 18\u001b[0m line \u001b[0;36m5\n\u001b[1;32m      <a href='vscode-notebook-cell://wsl%2Bubuntu/home/manan/code/karparthy/makemore/mlp.ipynb#X23sdnNjb2RlLXJlbW90ZQ%3D%3D?line=2'>3</a>\u001b[0m \u001b[39mfor\u001b[39;00m i \u001b[39min\u001b[39;00m \u001b[39mrange\u001b[39m(\u001b[39m10\u001b[39m):\n\u001b[1;32m      <a href='vscode-notebook-cell://wsl%2Bubuntu/home/manan/code/karparthy/makemore/mlp.ipynb#X23sdnNjb2RlLXJlbW90ZQ%3D%3D?line=3'>4</a>\u001b[0m     out \u001b[39m=\u001b[39m []\n\u001b[0;32m----> <a href='vscode-notebook-cell://wsl%2Bubuntu/home/manan/code/karparthy/makemore/mlp.ipynb#X23sdnNjb2RlLXJlbW90ZQ%3D%3D?line=4'>5</a>\u001b[0m     context  \u001b[39m=\u001b[39m [\u001b[39m0\u001b[39m] \u001b[39m*\u001b[39m block_size\n\u001b[1;32m      <a href='vscode-notebook-cell://wsl%2Bubuntu/home/manan/code/karparthy/makemore/mlp.ipynb#X23sdnNjb2RlLXJlbW90ZQ%3D%3D?line=5'>6</a>\u001b[0m     \u001b[39mwhile\u001b[39;00m \u001b[39mTrue\u001b[39;00m:\n\u001b[1;32m      <a href='vscode-notebook-cell://wsl%2Bubuntu/home/manan/code/karparthy/makemore/mlp.ipynb#X23sdnNjb2RlLXJlbW90ZQ%3D%3D?line=6'>7</a>\u001b[0m         emb \u001b[39m=\u001b[39m C[torch\u001b[39m.\u001b[39mtensor(context)]\u001b[39m.\u001b[39mview(\u001b[39m-\u001b[39m\u001b[39m1\u001b[39m, block_size \u001b[39m*\u001b[39m embedding_size)\n",
      "\u001b[0;31mNameError\u001b[0m: name 'block_size' is not defined"
     ]
    }
   ],
   "source": [
    "# sampling\n",
    "\n",
    "for i in range(10):\n",
    "    out = []\n",
    "    context  = [0] * block_size\n",
    "    while True:\n",
    "        emb = C[torch.tensor(context)].view(-1, block_size * embedding_size)\n",
    "        h = torch.tanh(emb @ W1 + b1)\n",
    "        logits = h @ W2 + b2\n",
    "        probs = F.softmax(logits, dim=1)\n",
    "        print(probs)\n",
    "        ix = torch.multinomial(probs, num_samples=1, generator=g)\n",
    "        context = context[1:] + [ix]\n",
    "        out.append(ix)\n",
    "        \n",
    "        if ix == 0:\n",
    "            break\n",
    "\n",
    "    print(''.join(itoa[i] for i in out))"
   ]
  },
  {
   "cell_type": "code",
   "execution_count": null,
   "id": "b4dfcc49-8414-424f-9247-488e26509c74",
   "metadata": {},
   "outputs": [],
   "source": [
    "# visualize dimensions 0 and 1 of the embedding matrix C for all characters\n",
    "plt.figure(figsize=(8,8))\n",
    "plt.scatter(C[:,0].data, C[:,1].data, s=200)\n",
    "for i in range(C.shape[0]):\n",
    "    plt.text(C[i,0].item(), C[i,1].item(), itoa[i], ha=\"center\", va=\"center\", color='white')\n",
    "plt.grid('minor')"
   ]
  }
 ],
 "metadata": {
  "kernelspec": {
   "display_name": "Python 3 (ipykernel)",
   "language": "python",
   "name": "python3"
  },
  "language_info": {
   "codemirror_mode": {
    "name": "ipython",
    "version": 3
   },
   "file_extension": ".py",
   "mimetype": "text/x-python",
   "name": "python",
   "nbconvert_exporter": "python",
   "pygments_lexer": "ipython3",
   "version": "3.10.12"
  },
  "widgets": {
   "application/vnd.jupyter.widget-state+json": {
    "state": {},
    "version_major": 2,
    "version_minor": 0
   }
  }
 },
 "nbformat": 4,
 "nbformat_minor": 5
}
