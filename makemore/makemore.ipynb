{
 "cells": [
  {
   "cell_type": "code",
   "execution_count": 82,
   "metadata": {},
   "outputs": [
    {
     "name": "stdout",
     "output_type": "stream",
     "text": [
      "names:  ['akshita', 'aasim', 'jo', 'javiel', 'jamiracle']\n",
      "number of names:  32033\n",
      "(list of chars, count):  ('abcdefghijklmnopqrstuvwxyz<S><E>', 28)\n",
      "(max word length, min word length):  (15, 2)\n"
     ]
    }
   ],
   "source": [
    "import random\n",
    "with open(\"names.txt\", \"r+\") as f:\n",
    "\twords = f.read().splitlines()\n",
    "\twords = [word.strip() for word in words] # get rid of any trailing spaces\n",
    "\twords = [w for w in words if w] # get rid of any empty strings\n",
    "\tnames = sorted(words, key=lambda x: random.random())\n",
    "\t\n",
    "with open(\"names.txt\", \"w\") as f: \n",
    "\tjoined = \"\\n\".join(names)\n",
    "\tf.write(joined)\n",
    "\n",
    "\n",
    "min_chars = min(len(v) for v in words)\n",
    "max_chars = max(len(v) for v in words)\n",
    "chars = sorted(list(set(\"\".join(names))))\n",
    "chars += ['<S>', '<E>']\n",
    "\n",
    "print(\"names: \", names[:5])\n",
    "print(\"number of names: \", len(names))\n",
    "print(\"(list of chars, count): \", (\"\".join(chars), len(chars)))\n",
    "print(\"(max word length, min word length): \", (max_chars, min_chars))\n",
    "\n",
    "# adding start and end token to each name\n",
    "names = [['<S>'] + list(name) + ['<E>'] for name in names]\n"
   ]
  },
  {
   "cell_type": "code",
   "execution_count": 84,
   "metadata": {},
   "outputs": [
    {
     "name": "stdout",
     "output_type": "stream",
     "text": [
      "max bigram occurance:  (('n', '<E>'), 6763)\n",
      "min bigram occurance:  (('x', 'h'), 1)\n",
      "{('n', '<E>'): 6763, ('a', '<E>'): 6640, ('a', 'n'): 5438, ('<S>', 'a'): 4410, ('e', '<E>'): 3983, ('a', 'r'): 3264, ('e', 'l'): 3248, ('r', 'i'): 3033, ('n', 'a'): 2977, ('<S>', 'k'): 2963, ('l', 'e'): 2921, ('e', 'n'): 2675, ('l', 'a'): 2623, ('m', 'a'): 2590, ('<S>', 'm'): 2538, ('a', 'l'): 2528, ('i', '<E>'): 2489, ('l', 'i'): 2480, ('i', 'a'): 2445, ('<S>', 'j'): 2422, ('o', 'n'): 2411, ('h', '<E>'): 2409, ('r', 'a'): 2356, ('a', 'h'): 2332, ('h', 'a'): 2244, ('y', 'a'): 2143, ('i', 'n'): 2126, ('<S>', 's'): 2055, ('a', 'y'): 2050, ('y', '<E>'): 2007, ('e', 'r'): 1958, ('n', 'n'): 1906, ('y', 'n'): 1826, ('k', 'a'): 1731, ('n', 'i'): 1725, ('r', 'e'): 1697, ('<S>', 'd'): 1690, ('i', 'e'): 1653, ('a', 'i'): 1650, ('<S>', 'r'): 1639, ('a', 'm'): 1634, ('l', 'y'): 1588, ('<S>', 'l'): 1572, ('<S>', 'c'): 1542, ('<S>', 'e'): 1531, ('j', 'a'): 1473, ('r', '<E>'): 1377, ('n', 'e'): 1359, ('l', 'l'): 1345, ('i', 'l'): 1345, ('i', 's'): 1316, ('l', '<E>'): 1314, ('<S>', 't'): 1308, ('<S>', 'b'): 1306, ('d', 'a'): 1303, ('s', 'h'): 1285, ('d', 'e'): 1283, ('e', 'e'): 1271, ('m', 'i'): 1256, ('s', 'a'): 1201, ('s', '<E>'): 1169, ('<S>', 'n'): 1146, ('a', 's'): 1118, ('y', 'l'): 1104, ('e', 'y'): 1070, ('o', 'r'): 1059, ('a', 'd'): 1042, ('t', 'a'): 1027, ('<S>', 'z'): 929, ('v', 'i'): 911, ('k', 'e'): 895, ('s', 'e'): 884, ('<S>', 'h'): 874, ('r', 'o'): 869, ('e', 's'): 861, ('z', 'a'): 860, ('o', '<E>'): 855, ('i', 'r'): 849, ('b', 'r'): 842, ('a', 'v'): 834, ('m', 'e'): 818, ('e', 'i'): 818, ('c', 'a'): 815, ('i', 'y'): 779, ('r', 'y'): 773, ('e', 'm'): 769, ('s', 't'): 765, ('h', 'i'): 729, ('t', 'e'): 716, ('n', 'd'): 704, ('l', 'o'): 692, ('a', 'e'): 692, ('a', 't'): 687, ('s', 'i'): 684, ('e', 'a'): 679, ('h', 'e'): 674, ('d', 'i'): 674, ('<S>', 'g'): 669, ('t', 'o'): 667, ('c', 'h'): 664, ('b', 'e'): 655, ('t', 'h'): 647, ('v', 'a'): 642, ('o', 'l'): 619, ('<S>', 'i'): 591, ('i', 'o'): 588, ('e', 't'): 580, ('a', 'k'): 568, ('v', 'e'): 568, ('a', 'a'): 556, ('c', 'e'): 551, ('i', 't'): 541, ('a', 'b'): 541, ('<S>', 'y'): 535, ('t', 'i'): 532, ('s', 'o'): 531, ('m', '<E>'): 516, ('d', '<E>'): 516, ('<S>', 'p'): 515, ('i', 'c'): 509, ('k', 'i'): 509, ('o', 's'): 504, ('n', 'o'): 496, ('t', '<E>'): 483, ('j', 'o'): 479, ('u', 's'): 474, ('a', 'c'): 470, ('n', 'y'): 465, ('e', 'v'): 463, ('s', 's'): 461, ('m', 'o'): 452, ('i', 'k'): 445, ('n', 't'): 443, ('i', 'd'): 440, ('j', 'e'): 440, ('a', 'z'): 435, ('i', 'g'): 428, ('i', 'm'): 427, ('r', 'r'): 425, ('d', 'r'): 424, ('<S>', 'f'): 417, ('u', 'r'): 414, ('r', 'l'): 413, ('y', 's'): 401, ('<S>', 'o'): 394, ('e', 'd'): 384, ('a', 'u'): 381, ('c', 'o'): 380, ('k', 'y'): 379, ('d', 'o'): 378, ('<S>', 'v'): 376, ('t', 't'): 374, ('z', 'e'): 373, ('z', 'i'): 364, ('k', '<E>'): 363, ('g', 'h'): 360, ('t', 'r'): 352, ('k', 'o'): 344, ('t', 'y'): 341, ('g', 'e'): 334, ('g', 'a'): 330, ('l', 'u'): 324, ('b', 'a'): 321, ('d', 'y'): 317, ('c', 'k'): 316, ('<S>', 'w'): 307, ('k', 'h'): 307, ('y', 'e'): 301, ('u', 'l'): 301, ('y', 'r'): 291, ('h', 'o'): 287, ('m', 'y'): 287, ('w', 'a'): 280, ('s', 'l'): 279, ('n', 's'): 278, ('i', 'z'): 277, ('u', 'n'): 275, ('o', 'u'): 275, ('n', 'g'): 273, ('y', 'd'): 272, ('c', 'i'): 271, ('y', 'o'): 271, ('i', 'v'): 269, ('e', 'o'): 269, ('o', 'm'): 261, ('r', 'u'): 252, ('f', 'a'): 242, ('b', 'i'): 217, ('s', 'y'): 215, ('h', 'y'): 213, ('n', 'c'): 213, ('p', 'a'): 209, ('r', 't'): 208, ('q', 'u'): 206, ('h', 'r'): 204, ('p', 'h'): 204, ('j', 'u'): 202, ('g', 'r'): 201, ('p', 'e'): 197, ('n', 'l'): 195, ('y', 'i'): 192, ('o', 'd'): 190, ('r', 's'): 190, ('g', 'i'): 190, ('r', 'd'): 187, ('h', 'l'): 185, ('s', 'u'): 185, ('a', 'x'): 182, ('e', 'z'): 181, ('e', 'k'): 178, ('o', 'v'): 176, ('a', 'j'): 175, ('o', 'h'): 171, ('u', 'e'): 169, ('m', 'm'): 168, ('a', 'g'): 168, ('h', 'u'): 166, ('x', '<E>'): 164, ('u', 'a'): 163, ('r', 'm'): 162, ('a', 'w'): 161, ('z', '<E>'): 160, ('f', 'i'): 160, ('u', '<E>'): 155, ('u', 'm'): 154, ('e', 'c'): 153, ('v', 'o'): 153, ('e', 'h'): 152, ('p', 'r'): 151, ('w', 'e'): 149, ('o', 'a'): 149, ('d', 'd'): 149, ('w', 'i'): 148, ('y', 'm'): 148, ('z', 'y'): 147, ('n', 'z'): 145, ('y', 'u'): 141, ('o', 'b'): 140, ('r', 'n'): 140, ('k', 'l'): 139, ('m', 'u'): 139, ('l', 'd'): 138, ('h', 'n'): 138, ('u', 'd'): 136, ('a', 'f'): 134, ('<S>', 'x'): 134, ('t', 'l'): 134, ('o', 'e'): 132, ('e', 'x'): 132, ('e', 'g'): 125, ('f', 'e'): 123, ('z', 'l'): 123, ('v', 'y'): 121, ('r', 'h'): 121, ('u', 'i'): 121, ('e', 'b'): 121, ('j', 'i'): 119, ('o', 't'): 118, ('d', 'h'): 118, ('h', 'm'): 117, ('c', 'l'): 116, ('o', 'o'): 115, ('y', 'c'): 115, ('f', 'r'): 114, ('o', 'c'): 114, ('o', 'w'): 114, ('b', '<E>'): 114, ('m', 'b'): 112, ('z', 'o'): 110, ('i', 'b'): 110, ('i', 'u'): 109, ('k', 'r'): 109, ('g', '<E>'): 108, ('y', 'v'): 106, ('t', 'z'): 105, ('b', 'o'): 105, ('y', 't'): 104, ('c', 'y'): 104, ('o', 'y'): 103, ('u', 'b'): 103, ('u', 'c'): 103, ('b', 'l'): 103, ('x', 'a'): 103, ('x', 'i'): 102, ('i', 'f'): 101, ('r', 'c'): 99, ('c', '<E>'): 97, ('m', 'r'): 97, ('n', 'u'): 96, ('k', 's'): 95, ('o', 'p'): 95, ('i', 'h'): 95, ('l', 's'): 94, ('u', 'k'): 93, ('<S>', 'q'): 92, ('d', 'u'): 92, ('r', 'k'): 90, ('s', 'm'): 90, ('i', 'x'): 89, ('v', '<E>'): 88, ('y', 'k'): 86, ('u', 'w'): 86, ('g', 'u'): 85, ('b', 'y'): 83, ('g', 'o'): 83, ('e', 'p'): 83, ('s', 'k'): 82, ('u', 't'): 82, ('e', 'f'): 82, ('i', 'i'): 82, ('a', 'p'): 82, ('f', '<E>'): 80, ('r', 'v'): 80, ('y', 'z'): 78, ('t', 'u'): 78, ('<S>', 'u'): 78, ('l', 't'): 77, ('r', 'g'): 76, ('c', 'r'): 76, ('i', 'j'): 76, ('w', 'y'): 73, ('z', 'u'): 73, ('l', 'v'): 72, ('j', '<E>'): 71, ('h', 't'): 71, ('x', 't'): 70, ('e', 'u'): 69, ('o', 'i'): 69, ('o', 'k'): 68, ('b', 'd'): 65, ('a', 'o'): 63, ('p', 'i'): 61, ('a', 'q'): 60, ('d', 'l'): 60, ('f', 'o'): 60, ('l', 'm'): 60, ('s', 'c'): 60, ('p', 'o'): 59, ('w', 'n'): 58, ('n', 'k'): 58, ('u', 'h'): 58, ('n', 'v'): 55, ('s', 'r'): 55, ('e', 'j'): 55, ('o', 'z'): 54, ('i', 'p'): 53, ('l', 'b'): 52, ('i', 'q'): 52, ('s', 'p'): 51, ('w', '<E>'): 51, ('m', 'c'): 51, ('e', 'w'): 50, ('k', 'u'): 50, ('v', 'r'): 48, ('u', 'g'): 47, ('j', 'h'): 45, ('o', 'x'): 45, ('b', 'u'): 45, ('z', 'z'): 45, ('u', 'z'): 45, ('f', 'f'): 44, ('o', 'g'): 44, ('n', 'r'): 44, ('n', 'j'): 44, ('z', 'h'): 43, ('c', 'c'): 42, ('r', 'b'): 41, ('b', 'h'): 41, ('x', 'o'): 41, ('x', 'l'): 39, ('h', 'v'): 39, ('p', 'p'): 39, ('m', 'p'): 38, ('x', 'x'): 38, ('b', 'b'): 38, ('u', 'v'): 37, ('w', 'o'): 36, ('x', 'e'): 36, ('c', 'u'): 35, ('m', 's'): 35, ('z', 'm'): 35, ('c', 't'): 35, ('t', 's'): 35, ('k', 'w'): 34, ('o', 'f'): 34, ('u', 'x'): 34, ('p', '<E>'): 33, ('g', 'l'): 32, ('z', 'r'): 32, ('d', 'n'): 31, ('h', 's'): 31, ('g', 'y'): 31, ('g', 't'): 31, ('x', 's'): 31, ('x', 'y'): 30, ('d', 'm'): 30, ('y', 'g'): 30, ('g', 's'): 30, ('d', 's'): 29, ('h', 'k'): 29, ('q', '<E>'): 28, ('y', 'x'): 28, ('y', 'b'): 27, ('g', 'n'): 27, ('k', 'n'): 26, ('g', 'w'): 26, ('n', 'h'): 26, ('l', 'c'): 25, ('w', 'u'): 25, ('d', 'g'): 25, ('g', 'g'): 25, ('r', 'j'): 25, ('h', 'd'): 24, ('l', 'k'): 24, ('s', 'w'): 24, ('m', 'd'): 24, ('s', 'n'): 24, ('r', 'z'): 23, ('w', 'h'): 23, ('y', 'j'): 23, ('y', 'y'): 23, ('d', 'w'): 23, ('l', 'f'): 22, ('t', 'n'): 22, ('y', 'h'): 22, ('w', 'r'): 22, ('r', 'w'): 21, ('s', 'b'): 21, ('m', 'n'): 20, ('h', 'z'): 20, ('w', 's'): 20, ('f', 'l'): 20, ('k', 'k'): 20, ('x', 'z'): 19, ('l', 'h'): 19, ('g', 'd'): 19, ('u', 'f'): 19, ('n', 'm'): 19, ('f', 't'): 18, ('l', 'r'): 18, ('t', 'c'): 17, ('k', 't'): 17, ('p', 't'): 17, ('d', 'v'): 17, ('o', 'j'): 16, ('u', 'p'): 16, ('p', 'l'): 16, ('l', 'w'): 16, ('p', 's'): 16, ('r', 'q'): 16, ('y', 'p'): 15, ('l', 'p'): 15, ('t', 'v'): 15, ('r', 'p'): 14, ('e', 'q'): 14, ('s', 'v'): 14, ('u', 'j'): 14, ('f', 'y'): 14, ('l', 'n'): 14, ('v', 'l'): 14, ('q', 'i'): 13, ('u', 'y'): 13, ('q', 'a'): 13, ('w', 'l'): 13, ('y', 'f'): 12, ('p', 'y'): 12, ('n', 'w'): 11, ('c', 'q'): 11, ('t', 'w'): 11, ('n', 'f'): 11, ('m', 'z'): 11, ('j', 'r'): 11, ('s', 'z'): 10, ('u', 'o'): 10, ('f', 'u'): 10, ('l', 'z'): 10, ('u', 'q'): 10, ('j', 'y'): 10, ('h', 'w'): 10, ('r', 'f'): 9, ('s', 'd'): 9, ('j', 'l'): 9, ('k', 'm'): 9, ('d', 'j'): 9, ('h', 'j'): 9, ('b', 's'): 8, ('v', 'n'): 8, ('w', 'd'): 8, ('i', 'w'): 8, ('n', 'b'): 8, ('w', 't'): 8, ('h', 'b'): 8, ('v', 'v'): 7, ('j', 's'): 7, ('v', 'u'): 7, ('m', 'j'): 7, ('f', 's'): 6, ('l', 'j'): 6, ('g', 'm'): 6, ('j', 'w'): 6, ('w', 'k'): 6, ('y', 'q'): 6, ('l', 'g'): 6, ('n', 'x'): 6, ('m', 'h'): 5, ('j', 'v'): 5, ('x', 'd'): 5, ('d', 'f'): 5, ('x', 'u'): 5, ('m', 'l'): 5, ('n', 'p'): 5, ('j', 'm'): 5, ('c', 's'): 5, ('d', 't'): 4, ('p', 'u'): 4, ('x', 'c'): 4, ('c', 'z'): 4, ('j', 'd'): 4, ('m', 't'): 4, ('j', 'c'): 4, ('z', 'b'): 4, ('f', 'n'): 4, ('z', 't'): 4, ('t', 'm'): 4, ('z', 'n'): 4, ('f', 'w'): 4, ('z', 's'): 4, ('b', 'n'): 4, ('y', 'w'): 4, ('r', 'x'): 3, ('c', 'x'): 3, ('x', 'f'): 3, ('u', 'u'): 3, ('q', 'w'): 3, ('g', 'b'): 3, ('z', 'w'): 3, ('c', 'j'): 3, ('m', 'v'): 3, ('d', 'c'): 3, ('v', 'k'): 3, ('g', 'j'): 3, ('x', 'w'): 3, ('o', 'q'): 3, ('d', 'k'): 3, ('l', 'q'): 3, ('t', 'j'): 3, ('z', 'v'): 2, ('s', 'g'): 2, ('z', 'j'): 2, ('z', 'd'): 2, ('t', 'g'): 2, ('k', 'v'): 2, ('w', 'w'): 2, ('q', 's'): 2, ('t', 'f'): 2, ('h', 'g'): 2, ('k', 'b'): 2, ('k', 'j'): 2, ('n', 'q'): 2, ('q', 'm'): 2, ('w', 'f'): 2, ('z', 'p'): 2, ('p', 'b'): 2, ('k', 'c'): 2, ('s', 'f'): 2, ('m', 'w'): 2, ('w', 'm'): 2, ('t', 'x'): 2, ('z', 'k'): 2, ('z', 'c'): 2, ('j', 't'): 2, ('b', 't'): 2, ('j', 'j'): 2, ('k', 'z'): 2, ('j', 'k'): 2, ('k', 'd'): 2, ('h', 'f'): 2, ('h', 'c'): 2, ('c', 'g'): 2, ('q', 'o'): 2, ('f', 'z'): 2, ('j', 'n'): 2, ('f', 'k'): 2, ('s', 'j'): 2, ('f', 'g'): 1, ('p', 'f'): 1, ('b', 'j'): 1, ('h', 'h'): 1, ('v', 'b'): 1, ('p', 'c'): 1, ('p', 'j'): 1, ('m', 'f'): 1, ('p', 'm'): 1, ('x', 'm'): 1, ('h', 'p'): 1, ('x', 'n'): 1, ('w', 'z'): 1, ('z', 'g'): 1, ('p', 'n'): 1, ('v', 'h'): 1, ('s', 'q'): 1, ('j', 'b'): 1, ('g', 'v'): 1, ('c', 'p'): 1, ('v', 'd'): 1, ('w', 'g'): 1, ('d', 'b'): 1, ('m', 'k'): 1, ('k', 'f'): 1, ('h', 'q'): 1, ('j', 'p'): 1, ('t', 'b'): 1, ('b', 'c'): 1, ('c', 'd'): 1, ('q', 'l'): 1, ('w', 'b'): 1, ('d', 'q'): 1, ('z', 'x'): 1, ('g', 'z'): 1, ('q', 'r'): 1, ('g', 'f'): 1, ('d', 'z'): 1, ('q', 'e'): 1, ('f', 'h'): 1, ('p', 'k'): 1, ('x', 'b'): 1, ('x', 'h'): 1}\n"
     ]
    }
   ],
   "source": [
    "b = {}\n",
    "for name in names:\n",
    "\tfor ch1, ch2 in zip(name, name[1:]):\n",
    "\t\tbigram = (ch1, ch2)\n",
    "\t\tb[bigram] = b.get(bigram, 0) + 1\n",
    "\n",
    "b = sorted(b.items(), key = lambda kv: -kv[1])\n",
    "print(\"max bigram occurance: \", b[0])\n",
    "print(\"min bigram occurance: \", b[-1])\n",
    "b = dict(b)\n",
    "print(b)"
   ]
  },
  {
   "cell_type": "code",
   "execution_count": 1,
   "metadata": {},
   "outputs": [
    {
     "name": "stdout",
     "output_type": "stream",
     "text": [
      "Defaulting to user installation because normal site-packages is not writeable\n",
      "Collecting torch\n"
     ]
    }
   ],
   "source": [
    "%pip install torch matplotlib\n",
    "import torch\n",
    "\n",
    "N = torch.zeros((28, 28), dtype=torch.int32)\n",
    "\n",
    "atoi = {ch:i for i,ch in enumerate(chars)}\n",
    "itoa = {i:ch for i,ch in enumerate(chars)}\n",
    "\n",
    "for name in names:\n",
    "\tfor ch1, ch2 in zip(name, name[1:]):\n",
    "\t\tix1, ix2 = atoi[ch1], atoi[ch2]\n",
    "\t\tN[ix1, ix2] += 1\n"
   ]
  },
  {
   "cell_type": "code",
   "execution_count": 87,
   "metadata": {},
   "outputs": [
    {
     "ename": "ModuleNotFoundError",
     "evalue": "No module named 'matplotlib'",
     "output_type": "error",
     "traceback": [
      "\u001b[0;31m---------------------------------------------------------------------------\u001b[0m",
      "\u001b[0;31mModuleNotFoundError\u001b[0m                       Traceback (most recent call last)",
      "\u001b[1;32m/home/manan/code/karparthy/makemore/makemore.ipynb Cell 4\u001b[0m line \u001b[0;36m1\n\u001b[0;32m----> <a href='vscode-notebook-cell://wsl%2Bubuntu/home/manan/code/karparthy/makemore/makemore.ipynb#W6sdnNjb2RlLXJlbW90ZQ%3D%3D?line=0'>1</a>\u001b[0m \u001b[39mimport\u001b[39;00m \u001b[39mmatplotlib\u001b[39;00m\u001b[39m.\u001b[39;00m\u001b[39mpyplot\u001b[39;00m \u001b[39mas\u001b[39;00m \u001b[39mplt\u001b[39;00m\n\u001b[1;32m      <a href='vscode-notebook-cell://wsl%2Bubuntu/home/manan/code/karparthy/makemore/makemore.ipynb#W6sdnNjb2RlLXJlbW90ZQ%3D%3D?line=2'>3</a>\u001b[0m get_ipython()\u001b[39m.\u001b[39mrun_line_magic(\u001b[39m'\u001b[39m\u001b[39mmatplotlib\u001b[39m\u001b[39m'\u001b[39m, \u001b[39m'\u001b[39m\u001b[39minline\u001b[39m\u001b[39m'\u001b[39m)\n\u001b[1;32m      <a href='vscode-notebook-cell://wsl%2Bubuntu/home/manan/code/karparthy/makemore/makemore.ipynb#W6sdnNjb2RlLXJlbW90ZQ%3D%3D?line=4'>5</a>\u001b[0m plt\u001b[39m.\u001b[39mimshow(N)\n",
      "\u001b[0;31mModuleNotFoundError\u001b[0m: No module named 'matplotlib'"
     ]
    }
   ],
   "source": [
    "import matplotlib.pyplot as plt\n",
    "\n",
    "%matplotlib inline\n",
    "\n",
    "plt.imshow(N)"
   ]
  },
  {
   "cell_type": "markdown",
   "metadata": {},
   "source": [
    "### Bigram model\n",
    "- Bigram (one character predicts the next one with a lookup table of counts)"
   ]
  },
  {
   "cell_type": "code",
   "execution_count": 63,
   "metadata": {},
   "outputs": [
    {
     "ename": "ModuleNotFoundError",
     "evalue": "No module named 'torch'",
     "output_type": "error",
     "traceback": [
      "\u001b[0;31m---------------------------------------------------------------------------\u001b[0m",
      "\u001b[0;31mModuleNotFoundError\u001b[0m                       Traceback (most recent call last)",
      "\u001b[1;32m/home/manan/code/karparthy/makemore/makemore.ipynb Cell 4\u001b[0m line \u001b[0;36m1\n\u001b[0;32m----> <a href='vscode-notebook-cell://wsl%2Bubuntu/home/manan/code/karparthy/makemore/makemore.ipynb#W3sdnNjb2RlLXJlbW90ZQ%3D%3D?line=0'>1</a>\u001b[0m \u001b[39mimport\u001b[39;00m \u001b[39mtorch\u001b[39;00m \n\u001b[1;32m      <a href='vscode-notebook-cell://wsl%2Bubuntu/home/manan/code/karparthy/makemore/makemore.ipynb#W3sdnNjb2RlLXJlbW90ZQ%3D%3D?line=1'>2</a>\u001b[0m torch\u001b[39m.\u001b[39mzeros((\u001b[39m3\u001b[39m, \u001b[39m5\u001b[39m), dtype\u001b[39m=\u001b[39mtorch\u001b[39m.\u001b[39mint32)\n",
      "\u001b[0;31mModuleNotFoundError\u001b[0m: No module named 'torch'"
     ]
    }
   ],
   "source": [
    "import torch \n",
    "torch.zeros((3, 5), dtype=torch.int32)\n",
    "N = torch.zeros((28,28), dtype=torch.int32)\n"
   ]
  },
  {
   "cell_type": "code",
   "execution_count": null,
   "metadata": {},
   "outputs": [],
   "source": [
    "import math\n",
    "import torch.nn as nn\n",
    "\n",
    "class NewGELU(nn.Module):\n",
    "    \"\"\"\n",
    "    Implementation of the GELU activation function currently in Google BERT repo (identical to OpenAI GPT).\n",
    "    Reference: Gaussian Error Linear Units (GELU) paper: https://arxiv.org/abs/1606.08415\n",
    "    \"\"\"\n",
    "    def forward(self, x):\n",
    "        return 0.5 * x * (1.0 + torch.tanh(math.sqrt(2.0 / math.pi) * (x + 0.044715 * torch.pow(x, 3.0))))\n"
   ]
  }
 ],
 "metadata": {
  "kernelspec": {
   "display_name": "Python 3",
   "language": "python",
   "name": "python3"
  },
  "language_info": {
   "codemirror_mode": {
    "name": "ipython",
    "version": 3
   },
   "file_extension": ".py",
   "mimetype": "text/x-python",
   "name": "python",
   "nbconvert_exporter": "python",
   "pygments_lexer": "ipython3",
   "version": "3.10.12"
  }
 },
 "nbformat": 4,
 "nbformat_minor": 2
}
